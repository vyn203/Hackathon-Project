{
 "cells": [
  {
   "cell_type": "code",
   "execution_count": 146,
   "metadata": {},
   "outputs": [
    {
     "ename": "ModuleNotFoundError",
     "evalue": "No module named 'seaborn'",
     "output_type": "error",
     "traceback": [
      "\u001b[0;31m---------------------------------------------------------------------------\u001b[0m",
      "\u001b[0;31mModuleNotFoundError\u001b[0m                       Traceback (most recent call last)",
      "\u001b[0;32m<ipython-input-146-b443ec1d6895>\u001b[0m in \u001b[0;36m<module>\u001b[0;34m\u001b[0m\n\u001b[1;32m      2\u001b[0m \u001b[0;32mimport\u001b[0m \u001b[0mpandas\u001b[0m \u001b[0;32mas\u001b[0m \u001b[0mpd\u001b[0m\u001b[0;34m\u001b[0m\u001b[0;34m\u001b[0m\u001b[0m\n\u001b[1;32m      3\u001b[0m \u001b[0;32mimport\u001b[0m \u001b[0mmatplotlib\u001b[0m\u001b[0;34m.\u001b[0m\u001b[0mpyplot\u001b[0m \u001b[0;32mas\u001b[0m \u001b[0mplt\u001b[0m\u001b[0;34m\u001b[0m\u001b[0;34m\u001b[0m\u001b[0m\n\u001b[0;32m----> 4\u001b[0;31m \u001b[0;32mimport\u001b[0m \u001b[0mseaborn\u001b[0m \u001b[0;32mas\u001b[0m \u001b[0msns\u001b[0m\u001b[0;34m\u001b[0m\u001b[0;34m\u001b[0m\u001b[0m\n\u001b[0m",
      "\u001b[0;31mModuleNotFoundError\u001b[0m: No module named 'seaborn'"
     ]
    }
   ],
   "source": [
    "import numpy as np\n",
    "import pandas as pd\n",
    "import matplotlib.pyplot as plt\n",
    "import seaborn as sns"
   ]
  },
  {
   "cell_type": "code",
   "execution_count": 147,
   "metadata": {},
   "outputs": [],
   "source": [
    "Ambulance_Responses_by_Month_data = pd.read_csv('https://data.austintexas.gov/api/views/bptg-ndvw/rows.csv?accessType=DOWNLOAD')\n",
    "# this data covers the EMS system response from Austin TX\n",
    "\n",
    "#for col in Ambulance_Responses_by_Month_data.columns:\n",
    "    #print(col)\n"
   ]
  },
  {
   "cell_type": "code",
   "execution_count": 127,
   "metadata": {},
   "outputs": [],
   "source": [
    "Ambulance_Responses_by_Month = pd.DataFrame(Ambulance_Responses_by_Month_data)\n",
    "Ambulance_Responses_by_Month = Ambulance_Responses_by_Month_data[['Month Key', 'Total System Responses']].copy()\n",
    "\n",
    "Ambulance_Responses_by_Month[\"Year\"] = Ambulance_Responses_by_Month[\"Month Key\"].astype(str).str[:4]\n",
    "Ambulance_Responses_by_Month[\"Month\"] = Ambulance_Responses_by_Month[\"Month Key\"].astype(str).str[4:]\n",
    "\n",
    "Ambulance_Responses_by_Month = Ambulance_Responses_by_Month.drop(['Month Key'], axis = 1)\n",
    "\n",
    "#print(Ambulance_Responses_by_Month.head())"
   ]
  },
  {
   "cell_type": "code",
   "execution_count": 128,
   "metadata": {},
   "outputs": [],
   "source": [
    "#print(\"Average system response per month by year\")\n",
    "\n",
    "#Ambulance_Responses_by_Month.groupby('Year')['Total System Responses'].mean()\n",
    "\n",
    "#print(\"Total system response per year\")\n",
    "\n",
    "#Ambulance_Responses_by_Month.groupby('Year')['Total System Responses'].sum()"
   ]
  },
  {
   "cell_type": "code",
   "execution_count": 129,
   "metadata": {},
   "outputs": [],
   "source": [
    "data = pd.read_csv('https://data.austintexas.gov/api/views/gjtj-jt2d/rows.csv?accessType=DOWNLOAD')\n",
    "\n",
    "#for col in data.columns:\n",
    "    #print(col)\n",
    "    \n",
    "#print(data.head())"
   ]
  },
  {
   "cell_type": "code",
   "execution_count": 130,
   "metadata": {},
   "outputs": [],
   "source": [
    "Incidents_by_Month = pd.DataFrame(data)\n",
    "\n",
    "Incidents_by_Month[\"Year\"] = Incidents_by_Month[\"Month Key\"].astype(str).str[:4]\n",
    "Incidents_by_Month[\"Month\"] = Incidents_by_Month[\"Month Key\"].astype(str).str[4:]"
   ]
  },
  {
   "cell_type": "code",
   "execution_count": 134,
   "metadata": {},
   "outputs": [
    {
     "name": "stdout",
     "output_type": "stream",
     "text": [
      "Total incidents per year by priority level\n",
      "      Total Incidents  Total P1 Incidents  Percent P1  Average P1 Incidents  \\\n",
      "Year                                                                          \n",
      "2010            24836                1653    6.655661           8488.166667   \n",
      "2011           105357                7121    6.758924           8488.166667   \n",
      "2012           113320                7895    6.966996           8488.166667   \n",
      "2013           115533                8362    7.237759           8488.166667   \n",
      "2014           121993                8372    6.862689           8488.166667   \n",
      "2015           130875                9532    7.283286           8488.166667   \n",
      "2016           131825               10332    7.837664           8488.166667   \n",
      "2017           128863               10955    8.501277           8488.166667   \n",
      "2018           122470                9825    8.022373           8488.166667   \n",
      "2019           126480                9233    7.299968           8488.166667   \n",
      "2020           119233                8495    7.124705           8488.166667   \n",
      "2021           136321               10083    7.396513           8488.166667   \n",
      "\n",
      "      Total P2 Incidents  Percent P2  Average P2 Incidents  \\\n",
      "Year                                                         \n",
      "2010                6980   28.104365          28644.083333   \n",
      "2011               30580   29.025124          28644.083333   \n",
      "2012               32607   28.774268          28644.083333   \n",
      "2013               33210   28.745034          28644.083333   \n",
      "2014               34184   28.021280          28644.083333   \n",
      "2015               33218   25.381471          28644.083333   \n",
      "2016               29771   22.583728          28644.083333   \n",
      "2017               28823   22.367165          28644.083333   \n",
      "2018               27775   22.679023          28644.083333   \n",
      "2019               29362   23.214738          28644.083333   \n",
      "2020               25981   21.790108          28644.083333   \n",
      "2021               31238   22.915031          28644.083333   \n",
      "\n",
      "      Total P3 Incidents  Percent P3  Average P3 Incidents  \\\n",
      "Year                                                         \n",
      "2010                3414   13.746175               21982.0   \n",
      "2011               14987   14.224968               21982.0   \n",
      "2012               15790   13.933992               21982.0   \n",
      "2013               16353   14.154397               21982.0   \n",
      "2014               18117   14.850852               21982.0   \n",
      "2015               23289   17.794842               21982.0   \n",
      "2016               26767   20.304950               21982.0   \n",
      "2017               28353   22.002437               21982.0   \n",
      "2018               27869   22.755777               21982.0   \n",
      "2019               28629   22.635199               21982.0   \n",
      "2020               28882   24.223160               21982.0   \n",
      "2021               31334   22.985453               21982.0   \n",
      "\n",
      "      Total P4 Incidents  Percent P4  Average P4 Incidents  \\\n",
      "Year                                                         \n",
      "2010                9605   38.673699          41958.833333   \n",
      "2011               38842   36.867033          41958.833333   \n",
      "2012               42687   37.669432          41958.833333   \n",
      "2013               44551   38.561277          41958.833333   \n",
      "2014               47142   38.643201          41958.833333   \n",
      "2015               50392   38.503916          41958.833333   \n",
      "2016               50611   38.392566          41958.833333   \n",
      "2017               46134   35.800812          41958.833333   \n",
      "2018               42990   35.102474          41958.833333   \n",
      "2019               44441   35.136781          41958.833333   \n",
      "2020               40008   33.554469          41958.833333   \n",
      "2021               46103   33.819441          41958.833333   \n",
      "\n",
      "      Total P5 Incidents  Percent P5  Average P5 Incidents  \n",
      "Year                                                        \n",
      "2010                3184   12.820100              13685.75  \n",
      "2011               13827   13.123950              13685.75  \n",
      "2012               14341   12.655312              13685.75  \n",
      "2013               13057   11.301533              13685.75  \n",
      "2014               14178   11.621978              13685.75  \n",
      "2015               14444   11.036485              13685.75  \n",
      "2016               14344   10.881092              13685.75  \n",
      "2017               14598   11.328310              13685.75  \n",
      "2018               14011   11.440353              13685.75  \n",
      "2019               14815   11.713314              13685.75  \n",
      "2020               15867   13.307557              13685.75  \n",
      "2021               17563   12.883562              13685.75  \n"
     ]
    }
   ],
   "source": [
    "print(\"Total incidents per year by priority level\")\n",
    "\n",
    "Priority_by_Year = pd.DataFrame(data)\n",
    "\n",
    "#for priority_num in range(1,2):\n",
    "    #Priority_by_Year = Incidents_by_Month.groupby('Year')[['Austin P'+str(priority_num)+' Incidents'].sum()\n",
    "\n",
    "Priority_by_Year = Incidents_by_Month.groupby('Year')[['Austin P1 Incidents', 'Travis County P1 Incidents', 'Austin P2 Incidents', 'Travis County P2 Incidents', 'Austin P3 Incidents', 'Travis County P3 Incidents', 'Austin P4 Incidents', 'Travis County P4 Incidents', 'Austin P5 Incidents', 'Travis County P5 Incidents']].sum()\n",
    "Priority_by_Year[\"Total Incidents\"] = Incidents_by_Month.groupby('Year')['Combined Austin and Travis County Incidents'].sum()\n",
    "\n",
    "for priority_num in range(1,6):\n",
    "    sum_column = Priority_by_Year['Austin P'+str(priority_num)+' Incidents'] + Priority_by_Year['Travis County P'+str(priority_num)+' Incidents']\n",
    "    Priority_by_Year['Total P'+str(priority_num)+' Incidents'] = sum_column\n",
    "    Priority_by_Year['Percent P'+str(priority_num)] = (Priority_by_Year['Total P'+str(priority_num)+' Incidents'] / Priority_by_Year['Total Incidents']) *100\n",
    "    #Priority_by_Year = Priority_by_Year.drop(['Austin P1 Incidents', 'Travis County P1 Incidents'], axis = 1)\n",
    "    Priority_by_Year['Average P'+str(priority_num)+' Incidents'] = Priority_by_Year['Total P'+str(priority_num)+' Incidents'].mean()\n",
    "    Priority_by_Year = Priority_by_Year.drop(['Austin P'+str(priority_num)+' Incidents', 'Travis County P'+str(priority_num)+' Incidents'], axis = 1)\n",
    "\n",
    "print(Priority_by_Year)\n"
   ]
  },
  {
   "cell_type": "code",
   "execution_count": 145,
   "metadata": {},
   "outputs": [
    {
     "ename": "NameError",
     "evalue": "name 'sns' is not defined",
     "output_type": "error",
     "traceback": [
      "\u001b[0;31m---------------------------------------------------------------------------\u001b[0m",
      "\u001b[0;31mNameError\u001b[0m                                 Traceback (most recent call last)",
      "\u001b[0;32m<ipython-input-145-59734d902170>\u001b[0m in \u001b[0;36m<module>\u001b[0;34m\u001b[0m\n\u001b[1;32m      2\u001b[0m \u001b[0mAverage_Incidents_labels\u001b[0m \u001b[0;34m=\u001b[0m \u001b[0;34m[\u001b[0m\u001b[0;34m'P1'\u001b[0m\u001b[0;34m,\u001b[0m \u001b[0;34m'P2'\u001b[0m\u001b[0;34m,\u001b[0m \u001b[0;34m'P3'\u001b[0m\u001b[0;34m,\u001b[0m \u001b[0;34m'P4'\u001b[0m\u001b[0;34m,\u001b[0m \u001b[0;34m'P5'\u001b[0m\u001b[0;34m]\u001b[0m\u001b[0;34m\u001b[0m\u001b[0;34m\u001b[0m\u001b[0m\n\u001b[1;32m      3\u001b[0m \u001b[0;34m\u001b[0m\u001b[0m\n\u001b[0;32m----> 4\u001b[0;31m \u001b[0msns\u001b[0m\u001b[0;34m.\u001b[0m\u001b[0mset_style\u001b[0m\u001b[0;34m(\u001b[0m\u001b[0;34m'darkgrid'\u001b[0m\u001b[0;34m)\u001b[0m \u001b[0;31m# darkgrid, white grid, dark, white and ticks\u001b[0m\u001b[0;34m\u001b[0m\u001b[0;34m\u001b[0m\u001b[0m\n\u001b[0m\u001b[1;32m      5\u001b[0m \u001b[0;34m\u001b[0m\u001b[0m\n\u001b[1;32m      6\u001b[0m \u001b[0mplt\u001b[0m\u001b[0;34m.\u001b[0m\u001b[0mbar\u001b[0m\u001b[0;34m(\u001b[0m\u001b[0mAverage_Incidents_labels\u001b[0m\u001b[0;34m,\u001b[0m\u001b[0mAverage_Incidents_data\u001b[0m\u001b[0;34m)\u001b[0m\u001b[0;34m\u001b[0m\u001b[0;34m\u001b[0m\u001b[0m\n",
      "\u001b[0;31mNameError\u001b[0m: name 'sns' is not defined"
     ]
    }
   ],
   "source": [
    "Average_Incidents_data = [8488.166667, 28644.083333, 21982.0, 41958.833333 , 13685.75]\n",
    "Average_Incidents_labels = ['P1', 'P2', 'P3', 'P4', 'P5']\n",
    "\n",
    "sns.set_style('darkgrid') # darkgrid, white grid, dark, white and ticks\n",
    "\n",
    "plt.bar(Average_Incidents_labels,Average_Incidents_data)\n",
    "plt.title('Average Incidents')\n",
    "plt.xlabel('Priority Level')\n",
    "plt.ylabel('Amount of Incidents')\n",
    "\n",
    "plt.rc('axes', titlesize=18)     # fontsize of the axes title\n",
    "plt.rc('axes', labelsize=14)    # fontsize of the x and y labels\n",
    "plt.rc('xtick', labelsize=13)    # fontsize of the tick labels\n",
    "plt.rc('ytick', labelsize=13)    # fontsize of the tick labels\n",
    "plt.rc('legend', fontsize=13)    # legend fontsize\n",
    "plt.rc('font', size=13)          # controls default text sizes\n",
    "\n",
    "\n",
    "plt.show()"
   ]
  },
  {
   "cell_type": "code",
   "execution_count": null,
   "metadata": {},
   "outputs": [],
   "source": []
  }
 ],
 "metadata": {
  "kernelspec": {
   "display_name": "Python 3",
   "language": "python",
   "name": "python3"
  },
  "language_info": {
   "codemirror_mode": {
    "name": "ipython",
    "version": 3
   },
   "file_extension": ".py",
   "mimetype": "text/x-python",
   "name": "python",
   "nbconvert_exporter": "python",
   "pygments_lexer": "ipython3",
   "version": "3.7.6"
  }
 },
 "nbformat": 4,
 "nbformat_minor": 4
}
