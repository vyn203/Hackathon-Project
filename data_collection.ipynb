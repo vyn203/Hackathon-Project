{
 "cells": [
  {
   "cell_type": "code",
   "execution_count": 1,
   "metadata": {},
   "outputs": [],
   "source": [
    "import numpy as np\n",
    "import pandas as pd"
   ]
  },
  {
   "cell_type": "code",
   "execution_count": 2,
   "metadata": {},
   "outputs": [],
   "source": [
    "data = pd.read_csv('https://data.austintexas.gov/api/views/bptg-ndvw/rows.csv?accessType=DOWNLOAD')"
   ]
  },
  {
   "cell_type": "code",
   "execution_count": 35,
   "metadata": {},
   "outputs": [
    {
     "name": "stdout",
     "output_type": "stream",
     "text": [
      "Month Key\n",
      "Month-Year\n",
      "Total System Responses\n",
      "Total Austin Responses\n",
      "Total Travis County Responses\n",
      "Other Area Responses\n",
      "Combined City and County Responses\n",
      "COA Unit Responses into TC\n",
      "TC Unit Responses into COA\n",
      "Percent COA Responses by TC\n",
      "Percent TC Responses by COA\n",
      "Other Area Responses by COA Units\n",
      "Other Area Responses by TC Units\n",
      "COA Unit Responses into COA or TC\n",
      "TC Unit Responses into COA or TC\n",
      "Percent of COA Responses by COA Units\n",
      "Percent of TC Responses by TC Units\n",
      "Percent of Other Area Responses by COA Units\n",
      "Percent of Other Area Responses by TC Units\n",
      "Percent of Responses into COA or TC by COA Units\n",
      "Percent of Responses into COA or TC by TC Units\n"
     ]
    }
   ],
   "source": [
    "for col in data.columns:\n",
    "    print(col)"
   ]
  },
  {
   "cell_type": "code",
   "execution_count": 34,
   "metadata": {},
   "outputs": [
    {
     "name": "stdout",
     "output_type": "stream",
     "text": [
      "   Month Key  Total System Responses\n",
      "0     201010                    8773\n",
      "1     201011                    7693\n",
      "2     201012                    8065\n",
      "3     201101                    8158\n",
      "4     201102                    8109\n",
      "   Total System Responses  Year Month\n",
      "0                    8773  2010    10\n",
      "1                    7693  2010    11\n",
      "2                    8065  2010    12\n",
      "3                    8158  2011    01\n",
      "4                    8109  2011    02\n"
     ]
    }
   ],
   "source": [
    "new = pd.DataFrame(data)\n",
    "new = data[['Month Key', 'Total System Responses']].copy()\n",
    "\n",
    "new[\"Year\"] = new[\"Month Key\"].astype(str).str[:4]\n",
    "new[\"Month\"] = new[\"Month Key\"].astype(str).str[4:]\n",
    "\n",
    "new = new.drop(['Month Key'], axis = 1)\n",
    "\n",
    "print(new.head())"
   ]
  },
  {
   "cell_type": "code",
   "execution_count": 38,
   "metadata": {},
   "outputs": [
    {
     "name": "stdout",
     "output_type": "stream",
     "text": [
      "Average system response per month by year\n"
     ]
    },
    {
     "data": {
      "text/plain": [
       "Year\n",
       "2010     8177.000000\n",
       "2011     8763.833333\n",
       "2012     9495.583333\n",
       "2013     9701.250000\n",
       "2014    10216.083333\n",
       "2015    11018.166667\n",
       "2016    11037.333333\n",
       "2017    10752.416667\n",
       "2018    10229.833333\n",
       "2019    10567.500000\n",
       "2020     9843.833333\n",
       "2021    11432.416667\n",
       "Name: Total System Responses, dtype: float64"
      ]
     },
     "execution_count": 38,
     "metadata": {},
     "output_type": "execute_result"
    }
   ],
   "source": [
    "print(\"Average system response per month by year\")\n",
    "\n",
    "new.groupby('Year')['Total System Responses'].mean()"
   ]
  },
  {
   "cell_type": "code",
   "execution_count": 41,
   "metadata": {},
   "outputs": [
    {
     "name": "stdout",
     "output_type": "stream",
     "text": [
      "Total system response per year\n"
     ]
    },
    {
     "data": {
      "text/plain": [
       "Year\n",
       "2010     24531\n",
       "2011    105166\n",
       "2012    113947\n",
       "2013    116415\n",
       "2014    122593\n",
       "2015    132218\n",
       "2016    132448\n",
       "2017    129029\n",
       "2018    122758\n",
       "2019    126810\n",
       "2020    118126\n",
       "2021    137189\n",
       "Name: Total System Responses, dtype: int64"
      ]
     },
     "execution_count": 41,
     "metadata": {},
     "output_type": "execute_result"
    }
   ],
   "source": [
    "print(\"Total system response per year\")\n",
    "\n",
    "new.groupby('Year')['Total System Responses'].sum()"
   ]
  },
  {
   "cell_type": "code",
   "execution_count": null,
   "metadata": {},
   "outputs": [],
   "source": []
  }
 ],
 "metadata": {
  "kernelspec": {
   "display_name": "Python 3",
   "language": "python",
   "name": "python3"
  },
  "language_info": {
   "codemirror_mode": {
    "name": "ipython",
    "version": 3
   },
   "file_extension": ".py",
   "mimetype": "text/x-python",
   "name": "python",
   "nbconvert_exporter": "python",
   "pygments_lexer": "ipython3",
   "version": "3.7.6"
  }
 },
 "nbformat": 4,
 "nbformat_minor": 4
}
