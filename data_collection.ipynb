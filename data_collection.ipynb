{
 "cells": [
  {
   "cell_type": "code",
   "execution_count": 14,
   "metadata": {},
   "outputs": [],
   "source": [
    "import numpy as np\n",
    "import pandas as pd"
   ]
  },
  {
   "cell_type": "code",
   "execution_count": 21,
   "metadata": {},
   "outputs": [],
   "source": [
    "Ambulance_Responses_by_Month_data = pd.read_csv('https://data.austintexas.gov/api/views/bptg-ndvw/rows.csv?accessType=DOWNLOAD')\n",
    "# this data covers the EMS system response from Austin TX\n"
   ]
  },
  {
   "cell_type": "code",
   "execution_count": 20,
   "metadata": {},
   "outputs": [
    {
     "name": "stdout",
     "output_type": "stream",
     "text": [
      "Month Key\n",
      "Month-Year\n",
      "Total System Responses\n",
      "Total Austin Responses\n",
      "Total Travis County Responses\n",
      "Other Area Responses\n",
      "Combined City and County Responses\n",
      "COA Unit Responses into TC\n",
      "TC Unit Responses into COA\n",
      "Percent COA Responses by TC\n",
      "Percent TC Responses by COA\n",
      "Other Area Responses by COA Units\n",
      "Other Area Responses by TC Units\n",
      "COA Unit Responses into COA or TC\n",
      "TC Unit Responses into COA or TC\n",
      "Percent of COA Responses by COA Units\n",
      "Percent of TC Responses by TC Units\n",
      "Percent of Other Area Responses by COA Units\n",
      "Percent of Other Area Responses by TC Units\n",
      "Percent of Responses into COA or TC by COA Units\n",
      "Percent of Responses into COA or TC by TC Units\n"
     ]
    }
   ],
   "source": [
    "for col in Ambulance_Responses_by_Month_data.columns:\n",
    "    print(col)"
   ]
  },
  {
   "cell_type": "code",
   "execution_count": 17,
   "metadata": {},
   "outputs": [
    {
     "name": "stdout",
     "output_type": "stream",
     "text": [
      "   Total System Responses  Year Month\n",
      "0                    8773  2010    10\n",
      "1                    7693  2010    11\n",
      "2                    8065  2010    12\n",
      "3                    8158  2011    01\n",
      "4                    8109  2011    02\n"
     ]
    }
   ],
   "source": [
    "Ambulance_Responses_by_Month = pd.DataFrame(Ambulance_Responses_by_Month_data)\n",
    "Ambulance_Responses_by_Month = Ambulance_Responses_by_Month_data[['Month Key', 'Total System Responses']].copy()\n",
    "\n",
    "Ambulance_Responses_by_Month[\"Year\"] = Ambulance_Responses_by_Month[\"Month Key\"].astype(str).str[:4]\n",
    "Ambulance_Responses_by_Month[\"Month\"] = Ambulance_Responses_by_Month[\"Month Key\"].astype(str).str[4:]\n",
    "\n",
    "Ambulance_Responses_by_Month = Ambulance_Responses_by_Month.drop(['Month Key'], axis = 1)\n",
    "\n",
    "print(Ambulance_Responses_by_Month.head())"
   ]
  },
  {
   "cell_type": "code",
   "execution_count": 18,
   "metadata": {},
   "outputs": [
    {
     "name": "stdout",
     "output_type": "stream",
     "text": [
      "Average system response per month by year\n"
     ]
    },
    {
     "data": {
      "text/plain": [
       "Year\n",
       "2010     8177.000000\n",
       "2011     8763.833333\n",
       "2012     9495.583333\n",
       "2013     9701.250000\n",
       "2014    10216.083333\n",
       "2015    11018.166667\n",
       "2016    11037.333333\n",
       "2017    10752.416667\n",
       "2018    10229.833333\n",
       "2019    10567.500000\n",
       "2020     9843.833333\n",
       "2021    11432.416667\n",
       "Name: Total System Responses, dtype: float64"
      ]
     },
     "execution_count": 18,
     "metadata": {},
     "output_type": "execute_result"
    }
   ],
   "source": [
    "print(\"Average system response per month by year\")\n",
    "\n",
    "Ambulance_Responses_by_Month.groupby('Year')['Total System Responses'].mean()"
   ]
  },
  {
   "cell_type": "code",
   "execution_count": 19,
   "metadata": {},
   "outputs": [
    {
     "name": "stdout",
     "output_type": "stream",
     "text": [
      "Total system response per year\n"
     ]
    },
    {
     "data": {
      "text/plain": [
       "Year\n",
       "2010     24531\n",
       "2011    105166\n",
       "2012    113947\n",
       "2013    116415\n",
       "2014    122593\n",
       "2015    132218\n",
       "2016    132448\n",
       "2017    129029\n",
       "2018    122758\n",
       "2019    126810\n",
       "2020    118126\n",
       "2021    137189\n",
       "Name: Total System Responses, dtype: int64"
      ]
     },
     "execution_count": 19,
     "metadata": {},
     "output_type": "execute_result"
    }
   ],
   "source": [
    "print(\"Total system response per year\")\n",
    "\n",
    "Ambulance_Responses_by_Month.groupby('Year')['Total System Responses'].sum()"
   ]
  },
  {
   "cell_type": "code",
   "execution_count": 55,
   "metadata": {},
   "outputs": [
    {
     "name": "stdout",
     "output_type": "stream",
     "text": [
      "Month Key\n",
      "Month-Year\n",
      "Total Incidents\n",
      "Austin Incidents\n",
      "Travis County Incidents\n",
      "Other Area Incidents\n",
      "Combined Austin and Travis County Incidents\n",
      "Austin P1 Incidents\n",
      "Austin P2 Incidents\n",
      "Austin P3 Incidents\n",
      "Austin P4 Incidents\n",
      "Austin P5 Incidents\n",
      "Travis County P1 Incidents\n",
      "Travis County P2 Incidents\n",
      "Travis County P3 Incidents\n",
      "Travis County P4 Incidents\n",
      "Travis County P5 Incidents\n",
      "Overall On-Time Compliance\n",
      "Austin On-Time Compliance\n",
      "Travis County On-Time Compliance\n",
      "Austin P1 On-Time Compliance\n",
      "Austin P2 On-Time Compliance\n",
      "Austin P3 On-Time Compliance\n",
      "Austin P4 On-Time Compliance\n",
      "Austin P5 On-Time Compliance\n",
      "Travis County P1 On-Time Compliance\n",
      "Travis County P2 On-Time Compliance\n",
      "Travis County P3 On-Time Compliance\n",
      "Travis County P4 On-Time Compliance\n",
      "Travis County P5 On-Time Compliance\n",
      "Target On-Time Compliance\n",
      "   Month Key              Month-Year  Total Incidents  Austin Incidents  \\\n",
      "0     201010  10/01/2010 12:00:00 AM             8910              7571   \n",
      "1     201011  11/01/2010 12:00:00 AM             7826              6564   \n",
      "2     201012  12/01/2010 12:00:00 AM             8182              6858   \n",
      "3     201101  01/01/2011 12:00:00 AM             8287              7081   \n",
      "4     201102  02/01/2011 12:00:00 AM             8241              6969   \n",
      "\n",
      "   Travis County Incidents  Other Area Incidents  \\\n",
      "0                     1321                    18   \n",
      "1                     1232                    30   \n",
      "2                     1290                    34   \n",
      "3                     1185                    21   \n",
      "4                     1255                    17   \n",
      "\n",
      "   Combined Austin and Travis County Incidents  Austin P1 Incidents  \\\n",
      "0                                         8892                  533   \n",
      "1                                         7796                  401   \n",
      "2                                         8148                  458   \n",
      "3                                         8266                  466   \n",
      "4                                         8224                  426   \n",
      "\n",
      "   Austin P2 Incidents  Austin P3 Incidents  ...  \\\n",
      "0                 2103                 1039  ...   \n",
      "1                 1896                  931  ...   \n",
      "2                 1892                  903  ...   \n",
      "3                 2017                 1025  ...   \n",
      "4                 2058                  982  ...   \n",
      "\n",
      "   Austin P2 On-Time Compliance  Austin P3 On-Time Compliance  \\\n",
      "0                         96.78                         99.26   \n",
      "1                         96.73                         98.94   \n",
      "2                         96.63                         98.67   \n",
      "3                         96.34                         97.99   \n",
      "4                         96.18                         97.78   \n",
      "\n",
      "   Austin P4 On-Time Compliance  Austin P5 On-Time Compliance  \\\n",
      "0                         98.82                         94.57   \n",
      "1                         98.43                         95.49   \n",
      "2                         98.24                         94.50   \n",
      "3                         98.82                         95.25   \n",
      "4                         97.97                         92.52   \n",
      "\n",
      "   Travis County P1 On-Time Compliance  Travis County P2 On-Time Compliance  \\\n",
      "0                                79.73                                77.22   \n",
      "1                                80.77                                82.97   \n",
      "2                                75.28                                81.85   \n",
      "3                                66.67                                86.82   \n",
      "4                                64.38                                81.06   \n",
      "\n",
      "   Travis County P3 On-Time Compliance  Travis County P4 On-Time Compliance  \\\n",
      "0                                89.77                                95.67   \n",
      "1                                89.10                                96.75   \n",
      "2                                86.34                                96.04   \n",
      "3                                90.80                                94.42   \n",
      "4                                85.31                                93.75   \n",
      "\n",
      "   Travis County P5 On-Time Compliance  Target On-Time Compliance  \n",
      "0                                88.11                         90  \n",
      "1                                92.91                         90  \n",
      "2                                92.54                         90  \n",
      "3                                88.10                         90  \n",
      "4                                88.59                         90  \n",
      "\n",
      "[5 rows x 31 columns]\n"
     ]
    }
   ],
   "source": [
    "data = pd.read_csv('https://data.austintexas.gov/api/views/gjtj-jt2d/rows.csv?accessType=DOWNLOAD')\n",
    "\n",
    "for col in data.columns:\n",
    "    print(col)\n",
    "    \n",
    "print(data.head())"
   ]
  },
  {
   "cell_type": "code",
   "execution_count": 57,
   "metadata": {},
   "outputs": [
    {
     "name": "stdout",
     "output_type": "stream",
     "text": [
      "0       8892\n",
      "1       7796\n",
      "2       8148\n",
      "3       8266\n",
      "4       8224\n",
      "       ...  \n",
      "130    13160\n",
      "131    12014\n",
      "132    11335\n",
      "133    10395\n",
      "134    11343\n",
      "Name: Combined Austin and Travis County Incidents, Length: 135, dtype: int64\n"
     ]
    }
   ],
   "source": [
    "Incidents_by_Month = pd.DataFrame(data)\n",
    "\n",
    "Incidents_by_Month[\"Year\"] = Incidents_by_Month[\"Month Key\"].astype(str).str[:4]\n",
    "Incidents_by_Month[\"Month\"] = Incidents_by_Month[\"Month Key\"].astype(str).str[4:]"
   ]
  },
  {
   "cell_type": "code",
   "execution_count": 116,
   "metadata": {},
   "outputs": [
    {
     "name": "stdout",
     "output_type": "stream",
     "text": [
      "Total P1 incidents per year\n",
      "      Total Incidents  Total P1 Incidents  Percent P1  Total P2 Incidents  \\\n",
      "Year                                                                        \n",
      "2010            24836                1653    6.655661                6980   \n",
      "2011           105357                7121    6.758924               30580   \n",
      "2012           113320                7895    6.966996               32607   \n",
      "2013           115533                8362    7.237759               33210   \n",
      "2014           121993                8372    6.862689               34184   \n",
      "2015           130875                9532    7.283286               33218   \n",
      "2016           131825               10332    7.837664               29771   \n",
      "2017           128863               10955    8.501277               28823   \n",
      "2018           122470                9825    8.022373               27775   \n",
      "2019           126480                9233    7.299968               29362   \n",
      "2020           119233                8495    7.124705               25981   \n",
      "2021           136321               10083    7.396513               31238   \n",
      "\n",
      "      Percent P2  Total P3 Incidents  Percent P3  Total P4 Incidents  \\\n",
      "Year                                                                   \n",
      "2010   28.104365                3414   13.746175                9605   \n",
      "2011   29.025124               14987   14.224968               38842   \n",
      "2012   28.774268               15790   13.933992               42687   \n",
      "2013   28.745034               16353   14.154397               44551   \n",
      "2014   28.021280               18117   14.850852               47142   \n",
      "2015   25.381471               23289   17.794842               50392   \n",
      "2016   22.583728               26767   20.304950               50611   \n",
      "2017   22.367165               28353   22.002437               46134   \n",
      "2018   22.679023               27869   22.755777               42990   \n",
      "2019   23.214738               28629   22.635199               44441   \n",
      "2020   21.790108               28882   24.223160               40008   \n",
      "2021   22.915031               31334   22.985453               46103   \n",
      "\n",
      "      Percent P4  Total P5 Incidents  Percent P5  \n",
      "Year                                              \n",
      "2010   38.673699                3184   12.820100  \n",
      "2011   36.867033               13827   13.123950  \n",
      "2012   37.669432               14341   12.655312  \n",
      "2013   38.561277               13057   11.301533  \n",
      "2014   38.643201               14178   11.621978  \n",
      "2015   38.503916               14444   11.036485  \n",
      "2016   38.392566               14344   10.881092  \n",
      "2017   35.800812               14598   11.328310  \n",
      "2018   35.102474               14011   11.440353  \n",
      "2019   35.136781               14815   11.713314  \n",
      "2020   33.554469               15867   13.307557  \n",
      "2021   33.819441               17563   12.883562  \n"
     ]
    }
   ],
   "source": [
    "print(\"Total P1 incidents per year\")\n",
    "\n",
    "Priority_by_Year = pd.DataFrame(data)\n",
    "\n",
    "#for priority_num in range(1,2):\n",
    "    #Priority_by_Year = Incidents_by_Month.groupby('Year')[['Austin P'+str(priority_num)+' Incidents'].sum()\n",
    "\n",
    "Priority_by_Year = Incidents_by_Month.groupby('Year')[['Austin P1 Incidents', 'Travis County P1 Incidents', 'Austin P2 Incidents', 'Travis County P2 Incidents', 'Austin P3 Incidents', 'Travis County P3 Incidents', 'Austin P4 Incidents', 'Travis County P4 Incidents', 'Austin P5 Incidents', 'Travis County P5 Incidents']].sum()\n",
    "Priority_by_Year[\"Total Incidents\"] = Incidents_by_Month.groupby('Year')['Combined Austin and Travis County Incidents'].sum()\n",
    "\n",
    "for priority_num in range(1,6):\n",
    "    sum_column = Priority_by_Year['Austin P'+str(priority_num)+' Incidents'] + Priority_by_Year['Travis County P'+str(priority_num)+' Incidents']\n",
    "    Priority_by_Year['Total P'+str(priority_num)+' Incidents'] = sum_column\n",
    "    Priority_by_Year['Percent P'+str(priority_num)] = (Priority_by_Year['Total P'+str(priority_num)+' Incidents'] / Priority_by_Year['Total Incidents']) *100\n",
    "    #Priority_by_Year = Priority_by_Year.drop(['Austin P1 Incidents', 'Travis County P1 Incidents'], axis = 1)\n",
    "    Priority_by_Year = Priority_by_Year.drop(['Austin P'+str(priority_num)+' Incidents', 'Travis County P'+str(priority_num)+' Incidents'], axis = 1)\n",
    "\n",
    "#Priority_by_Year['Percent P1'] = (Priority_by_Year['Total P1 Incidents'] / Priority_by_Year['Total Incidents']) *100\n",
    "\n",
    "#Priority_by_Year = Priority_by_Year.drop(['Austin P1 Incidents', 'Travis County P1 Incidents'], axis = 1)\n",
    "\n",
    "print(Priority_by_Year)\n"
   ]
  },
  {
   "cell_type": "code",
   "execution_count": null,
   "metadata": {},
   "outputs": [],
   "source": []
  }
 ],
 "metadata": {
  "kernelspec": {
   "display_name": "Python 3",
   "language": "python",
   "name": "python3"
  },
  "language_info": {
   "codemirror_mode": {
    "name": "ipython",
    "version": 3
   },
   "file_extension": ".py",
   "mimetype": "text/x-python",
   "name": "python",
   "nbconvert_exporter": "python",
   "pygments_lexer": "ipython3",
   "version": "3.7.6"
  }
 },
 "nbformat": 4,
 "nbformat_minor": 4
}
