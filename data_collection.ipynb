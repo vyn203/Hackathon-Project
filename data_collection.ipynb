{
 "cells": [
  {
   "cell_type": "code",
   "execution_count": 1,
   "metadata": {},
   "outputs": [],
   "source": [
    "import numpy as np\n",
    "import pandas as pd\n",
    "import matplotlib.pyplot as plt\n",
    "import seaborn as sns"
   ]
  },
  {
   "cell_type": "code",
   "execution_count": 2,
   "metadata": {},
   "outputs": [],
   "source": [
    "Ambulance_Responses_by_Month_data = pd.read_csv('https://data.austintexas.gov/api/views/bptg-ndvw/rows.csv?accessType=DOWNLOAD')\n",
    "# this data covers the EMS system response from Austin TX\n",
    "\n",
    "#for col in Ambulance_Responses_by_Month_data.columns:\n",
    "    #print(col)\n"
   ]
  },
  {
   "cell_type": "code",
   "execution_count": 3,
   "metadata": {},
   "outputs": [],
   "source": [
    "Ambulance_Responses_by_Month = pd.DataFrame(Ambulance_Responses_by_Month_data)\n",
    "Ambulance_Responses_by_Month = Ambulance_Responses_by_Month_data[['Month Key', 'Total System Responses']].copy()\n",
    "\n",
    "Ambulance_Responses_by_Month[\"Year\"] = Ambulance_Responses_by_Month[\"Month Key\"].astype(str).str[:4]\n",
    "Ambulance_Responses_by_Month[\"Month\"] = Ambulance_Responses_by_Month[\"Month Key\"].astype(str).str[4:]\n",
    "\n",
    "Ambulance_Responses_by_Month = Ambulance_Responses_by_Month.drop(['Month Key'], axis = 1)\n",
    "\n",
    "#print(Ambulance_Responses_by_Month.head())"
   ]
  },
  {
   "cell_type": "code",
   "execution_count": 4,
   "metadata": {},
   "outputs": [],
   "source": [
    "#print(\"Average system response per month by year\")\n",
    "\n",
    "#Ambulance_Responses_by_Month.groupby('Year')['Total System Responses'].mean()\n",
    "\n",
    "#print(\"Total system response per year\")\n",
    "\n",
    "#Ambulance_Responses_by_Month.groupby('Year')['Total System Responses'].sum()"
   ]
  },
  {
   "cell_type": "code",
   "execution_count": 5,
   "metadata": {},
   "outputs": [],
   "source": [
    "data = pd.read_csv('https://data.austintexas.gov/api/views/gjtj-jt2d/rows.csv?accessType=DOWNLOAD')\n",
    "\n",
    "#for col in data.columns:\n",
    "    #print(col)\n",
    "    \n",
    "#print(data.head())"
   ]
  },
  {
   "cell_type": "code",
   "execution_count": 6,
   "metadata": {},
   "outputs": [],
   "source": [
    "Incidents_by_Month = pd.DataFrame(data)\n",
    "\n",
    "Incidents_by_Month[\"Year\"] = Incidents_by_Month[\"Month Key\"].astype(str).str[:4]\n",
    "Incidents_by_Month[\"Month\"] = Incidents_by_Month[\"Month Key\"].astype(str).str[4:]"
   ]
  },
  {
   "cell_type": "code",
   "execution_count": 7,
   "metadata": {},
   "outputs": [
    {
     "name": "stdout",
     "output_type": "stream",
     "text": [
      "      Total Incidents  Total P1 Incidents  Percent P1  Average P1 Incidents  \\\n",
      "Year                                                                          \n",
      "2010            24836                1653    6.655661           8488.166667   \n",
      "2011           105357                7121    6.758924           8488.166667   \n",
      "2012           113320                7895    6.966996           8488.166667   \n",
      "2013           115533                8362    7.237759           8488.166667   \n",
      "2014           121993                8372    6.862689           8488.166667   \n",
      "2015           130875                9532    7.283286           8488.166667   \n",
      "2016           131825               10332    7.837664           8488.166667   \n",
      "2017           128863               10955    8.501277           8488.166667   \n",
      "2018           122470                9825    8.022373           8488.166667   \n",
      "2019           126480                9233    7.299968           8488.166667   \n",
      "2020           119233                8495    7.124705           8488.166667   \n",
      "2021           136321               10083    7.396513           8488.166667   \n",
      "\n",
      "      Average P1 Percentage  Total P2 Incidents  Percent P2  \\\n",
      "Year                                                          \n",
      "2010               7.328985                6980   28.104365   \n",
      "2011               7.328985               30580   29.025124   \n",
      "2012               7.328985               32607   28.774268   \n",
      "2013               7.328985               33210   28.745034   \n",
      "2014               7.328985               34184   28.021280   \n",
      "2015               7.328985               33218   25.381471   \n",
      "2016               7.328985               29771   22.583728   \n",
      "2017               7.328985               28823   22.367165   \n",
      "2018               7.328985               27775   22.679023   \n",
      "2019               7.328985               29362   23.214738   \n",
      "2020               7.328985               25981   21.790108   \n",
      "2021               7.328985               31238   22.915031   \n",
      "\n",
      "      Average P2 Incidents  Average P2 Percentage  Total P3 Incidents  ...  \\\n",
      "Year                                                                   ...   \n",
      "2010          28644.083333              25.300111                3414  ...   \n",
      "2011          28644.083333              25.300111               14987  ...   \n",
      "2012          28644.083333              25.300111               15790  ...   \n",
      "2013          28644.083333              25.300111               16353  ...   \n",
      "2014          28644.083333              25.300111               18117  ...   \n",
      "2015          28644.083333              25.300111               23289  ...   \n",
      "2016          28644.083333              25.300111               26767  ...   \n",
      "2017          28644.083333              25.300111               28353  ...   \n",
      "2018          28644.083333              25.300111               27869  ...   \n",
      "2019          28644.083333              25.300111               28629  ...   \n",
      "2020          28644.083333              25.300111               28882  ...   \n",
      "2021          28644.083333              25.300111               31334  ...   \n",
      "\n",
      "      Average P3 Incidents  Average P3 Percentage  Total P4 Incidents  \\\n",
      "Year                                                                    \n",
      "2010               21982.0               18.63435                9605   \n",
      "2011               21982.0               18.63435               38842   \n",
      "2012               21982.0               18.63435               42687   \n",
      "2013               21982.0               18.63435               44551   \n",
      "2014               21982.0               18.63435               47142   \n",
      "2015               21982.0               18.63435               50392   \n",
      "2016               21982.0               18.63435               50611   \n",
      "2017               21982.0               18.63435               46134   \n",
      "2018               21982.0               18.63435               42990   \n",
      "2019               21982.0               18.63435               44441   \n",
      "2020               21982.0               18.63435               40008   \n",
      "2021               21982.0               18.63435               46103   \n",
      "\n",
      "      Percent P4  Average P4 Incidents  Average P4 Percentage  \\\n",
      "Year                                                            \n",
      "2010   38.673699          41958.833333              36.727092   \n",
      "2011   36.867033          41958.833333              36.727092   \n",
      "2012   37.669432          41958.833333              36.727092   \n",
      "2013   38.561277          41958.833333              36.727092   \n",
      "2014   38.643201          41958.833333              36.727092   \n",
      "2015   38.503916          41958.833333              36.727092   \n",
      "2016   38.392566          41958.833333              36.727092   \n",
      "2017   35.800812          41958.833333              36.727092   \n",
      "2018   35.102474          41958.833333              36.727092   \n",
      "2019   35.136781          41958.833333              36.727092   \n",
      "2020   33.554469          41958.833333              36.727092   \n",
      "2021   33.819441          41958.833333              36.727092   \n",
      "\n",
      "      Total P5 Incidents  Percent P5  Average P5 Incidents  \\\n",
      "Year                                                         \n",
      "2010                3184   12.820100              13685.75   \n",
      "2011               13827   13.123950              13685.75   \n",
      "2012               14341   12.655312              13685.75   \n",
      "2013               13057   11.301533              13685.75   \n",
      "2014               14178   11.621978              13685.75   \n",
      "2015               14444   11.036485              13685.75   \n",
      "2016               14344   10.881092              13685.75   \n",
      "2017               14598   11.328310              13685.75   \n",
      "2018               14011   11.440353              13685.75   \n",
      "2019               14815   11.713314              13685.75   \n",
      "2020               15867   13.307557              13685.75   \n",
      "2021               17563   12.883562              13685.75   \n",
      "\n",
      "      Average P5 Percentage  \n",
      "Year                         \n",
      "2010              12.009462  \n",
      "2011              12.009462  \n",
      "2012              12.009462  \n",
      "2013              12.009462  \n",
      "2014              12.009462  \n",
      "2015              12.009462  \n",
      "2016              12.009462  \n",
      "2017              12.009462  \n",
      "2018              12.009462  \n",
      "2019              12.009462  \n",
      "2020              12.009462  \n",
      "2021              12.009462  \n",
      "\n",
      "[12 rows x 21 columns]\n"
     ]
    }
   ],
   "source": [
    "Priority_by_Year = pd.DataFrame(data)\n",
    "\n",
    "Priority_by_Year = Incidents_by_Month.groupby('Year')[['Austin P1 Incidents', 'Travis County P1 Incidents', 'Austin P2 Incidents', 'Travis County P2 Incidents', 'Austin P3 Incidents', 'Travis County P3 Incidents', 'Austin P4 Incidents', 'Travis County P4 Incidents', 'Austin P5 Incidents', 'Travis County P5 Incidents']].sum()\n",
    "Priority_by_Year[\"Total Incidents\"] = Incidents_by_Month.groupby('Year')['Combined Austin and Travis County Incidents'].sum()\n",
    "\n",
    "for priority_num in range(1,6):\n",
    "    sum_column = Priority_by_Year['Austin P'+str(priority_num)+' Incidents'] + Priority_by_Year['Travis County P'+str(priority_num)+' Incidents']\n",
    "    Priority_by_Year['Total P'+str(priority_num)+' Incidents'] = sum_column\n",
    "    Priority_by_Year['Percent P'+str(priority_num)] = (Priority_by_Year['Total P'+str(priority_num)+' Incidents'] / Priority_by_Year['Total Incidents']) *100\n",
    "    Priority_by_Year['Average P'+str(priority_num)+' Incidents'] = Priority_by_Year['Total P'+str(priority_num)+' Incidents'].mean()\n",
    "    Priority_by_Year['Average P'+str(priority_num)+' Percentage'] = Priority_by_Year['Percent P'+str(priority_num)].mean()\n",
    "    Priority_by_Year = Priority_by_Year.drop(['Austin P'+str(priority_num)+' Incidents', 'Travis County P'+str(priority_num)+' Incidents'], axis = 1)\n",
    "\n",
    "print(Priority_by_Year)\n"
   ]
  },
  {
   "cell_type": "code",
   "execution_count": 8,
   "metadata": {},
   "outputs": [
    {
     "data": {
      "image/png": "[encoded data removed]",
      "text/plain": [
       "<Figure size 432x288 with 1 Axes>"
      ]
     },
     "metadata": {},
     "output_type": "display_data"
    }
   ],
   "source": [
    "Average_Incidents_data = [8488.166667, 28644.083333, 21982.0, 41958.833333 , 13685.75]\n",
    "Average_Incidents_percentages = [7.328985, 25.300111, 18.63435, 36.727092, 12.009462]\n",
    "Average_Incidents_labels = ['P1', 'P2', 'P3', 'P4', 'P5']\n",
    "\n",
    "sns.set_style('darkgrid') # darkgrid, white grid, dark, white and ticks\n",
    "sns.color_palette('Set2')\n",
    "\n",
    "plt.bar(Average_Incidents_labels,Average_Incidents_data)\n",
    "plt.title('Average Incidents')\n",
    "plt.xlabel('Priority Level')\n",
    "plt.ylabel('Amount of Incidents')\n",
    "\n",
    "plt.rc('axes', titlesize=18)     # fontsize of the axes title\n",
    "plt.rc('axes', labelsize=14)    # fontsize of the x and y labels\n",
    "plt.rc('xtick', labelsize=13)    # fontsize of the tick labels\n",
    "plt.rc('ytick', labelsize=13)    # fontsize of the tick labels\n",
    "plt.rc('legend', fontsize=13)    # legend fontsize\n",
    "plt.rc('font', size=13)          # controls default text sizes\n",
    "\n",
    "plt.show()"
   ]
  },
  {
   "cell_type": "code",
   "execution_count": 9,
   "metadata": {},
   "outputs": [
    {
     "data": {
      "image/png": "[encoded data removed]",
      "text/plain": [
       "<Figure size 432x288 with 1 Axes>"
      ]
     },
     "metadata": {},
     "output_type": "display_data"
    }
   ],
   "source": [
    "labels = Average_Incidents_labels\n",
    "sizes = Average_Incidents_percentages\n",
    "explode = (0, 0, 0, 0.1, 0.1)  # only \"explode\" the 2nd slice (i.e. 'Hogs')\n",
    "fig1, ax1 = plt.subplots()\n",
    "ax1.pie(sizes, labels=labels, autopct='%1.1f%%', startangle=90, explode=explode, shadow=False)\n",
    "ax1.axis('equal')  # Equal aspect ratio ensures that pie is drawn as a circle.\n",
    "\n",
    "plt.show()"
   ]
  },
  {
   "cell_type": "code",
   "execution_count": null,
   "metadata": {},
   "outputs": [],
   "source": []
  }
 ],
 "metadata": {
  "kernelspec": {
   "display_name": "Python 3",
   "language": "python",
   "name": "python3"
  },
  "language_info": {
   "codemirror_mode": {
    "name": "ipython",
    "version": 3
   },
   "file_extension": ".py",
   "mimetype": "text/x-python",
   "name": "python",
   "nbconvert_exporter": "python",
   "pygments_lexer": "ipython3",
   "version": "3.7.6"
  }
 },
 "nbformat": 4,
 "nbformat_minor": 4
}
